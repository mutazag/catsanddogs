{
  "cells": [
    {
      "cell_type": "markdown",
      "metadata": {
        "id": "slVkfZECGYuE"
      },
      "source": [
        "# Run Training on Azure ML Compute Instance\n",
        "\n",
        "In this exercise, we will run a deep learning training job on Azure ML Compute Instance\n"
      ]
    },
    {
      "cell_type": "markdown",
      "metadata": {
        "id": "UEKwxPVBF4Kd"
      },
      "source": [
        "# Predicting cats versus dogs (binary classification)\n",
        "\n",
        "## Dataset \n",
        "\n",
        "The original dataset is avalaible here: [cats and dogs](https://storage.googleapis.com/mledu-datasets/cats_and_dogs_filtered.zip)\n",
        "\n",
        "Run the [downlload bash script](01_download_files.sh) to download the publich cats and dogs dataset and uploaded to a storage account. \n",
        "\n",
        "Run [Explore Dataset Notebook](02_explore_dataset.ipynb) to mount datstore to compute instance."
      ]
    },
    {
      "cell_type": "markdown",
      "metadata": {
        "id": "z1uxFpFNZgj-"
      },
      "source": [
        "## Training Code"
      ]
    },
    {
      "cell_type": "code",
      "execution_count": 21,
      "metadata": {
        "id": "8rlRtw82Ca2W"
      },
      "outputs": [],
      "source": [
        "import tensorflow as tf\n",
        "# Placeholder for student's code (3 lines of code)\n",
        "# Task: import tensorflow and download the dataset locally"
      ]
    },
    {
      "cell_type": "code",
      "execution_count": 22,
      "metadata": {},
      "outputs": [
        {
          "data": {
            "text/plain": [
              "'2.8.0'"
            ]
          },
          "execution_count": 22,
          "metadata": {},
          "output_type": "execute_result"
        }
      ],
      "source": [
        "tf.version.VERSION"
      ]
    },
    {
      "cell_type": "markdown",
      "metadata": {},
      "source": [
        "Enable MLflow tracking"
      ]
    },
    {
      "cell_type": "code",
      "execution_count": 23,
      "metadata": {},
      "outputs": [
        {
          "name": "stderr",
          "output_type": "stream",
          "text": [
            "2022/04/25 05:33:14 INFO mlflow.tracking.fluent: Autologging successfully enabled for tensorflow.\n"
          ]
        }
      ],
      "source": [
        "import mlflow\n",
        "mlflow.set_experiment('cats-and-dogs')\n",
        "mlflow.autolog()"
      ]
    },
    {
      "cell_type": "markdown",
      "metadata": {},
      "source": [
        "Data need to be present on the compute instance, or development machine. Refer to [explore data set notebook](02_explore_dataset.ipynb) for details on how to mount a registered `Dataset`. "
      ]
    },
    {
      "cell_type": "code",
      "execution_count": 24,
      "metadata": {
        "colab": {
          "base_uri": "https://localhost:8080/",
          "height": 87
        },
        "id": "b4YDJ6ztCa2a",
        "outputId": "608674dd-c921-4f9b-dd93-a69944a61d53"
      },
      "outputs": [
        {
          "name": "stdout",
          "output_type": "stream",
          "text": [
            "['train', 'validation', 'vectorize.py']\n"
          ]
        }
      ],
      "source": [
        "zip_dir = '/mnt/tmp/cats_dogs'\n",
        "import pathlib\n",
        "parent_dir = pathlib.Path(zip_dir)\n",
        "\n",
        "import os \n",
        "print(os.listdir(zip_dir))"
      ]
    },
    {
      "cell_type": "code",
      "execution_count": 25,
      "metadata": {
        "id": "FONBvEU5Ca2m"
      },
      "outputs": [
        {
          "name": "stdout",
          "output_type": "stream",
          "text": [
            "/mnt/tmp/cats_dogs/train\n",
            "/mnt/tmp/cats_dogs/validation\n"
          ]
        }
      ],
      "source": [
        "# Create 2 variable called train_dir and test_dir that will contain the path to the 'train' and 'validation' folders\n",
        "train_dir = parent_dir / 'train'\n",
        "test_dir = parent_dir / 'validation'\n",
        "\n",
        "print(train_dir)\n",
        "print(test_dir)"
      ]
    },
    {
      "cell_type": "markdown",
      "metadata": {
        "id": "6TfftHwNCa2o"
      },
      "source": [
        "### Preparing the Dataset"
      ]
    },
    {
      "cell_type": "code",
      "execution_count": 26,
      "metadata": {
        "id": "yeS9IGMJCa2r"
      },
      "outputs": [
        {
          "name": "stdout",
          "output_type": "stream",
          "text": [
            "Found 2000 images belonging to 2 classes.\n",
            "Found 1000 images belonging to 2 classes.\n",
            "{'cats': 0, 'dogs': 1}\n",
            "(100, 100, 3)\n"
          ]
        }
      ],
      "source": [
        "# Import ImageDataGenerator and create an image generator for the training set\n",
        "from tensorflow.keras.preprocessing.image import ImageDataGenerator\n",
        "train_img_gen = ImageDataGenerator(\n",
        "    rescale=1./255, \n",
        "    rotation_range=40, \n",
        "    width_shift_range=0.1, \n",
        "    height_shift_range=0.1, \n",
        "    shear_range=0.2, \n",
        "    zoom_range=0.2, \n",
        "    horizontal_flip=True, \n",
        "    fill_mode='nearest')\n",
        "\n",
        "\n",
        "# create an image generator for the testing set\n",
        "test_img_gen = ImageDataGenerator(rescale=1./255)\n",
        "\n",
        "# batch size for the data generators.\n",
        "batch_size=20\n",
        "\n",
        "# define our data generator by specifying its input stream\n",
        "train_data_gen = train_img_gen.flow_from_directory(\n",
        "    batch_size=batch_size, \n",
        "    directory=train_dir, \n",
        "    target_size=(100, 100), \n",
        "    class_mode='binary')\n",
        "\n",
        "test_data_gen = test_img_gen.flow_from_directory(\n",
        "    batch_size=batch_size, \n",
        "    directory=test_dir, \n",
        "    target_size=(100, 100), \n",
        "    class_mode='binary')\n",
        "\n",
        "\n",
        "print(test_data_gen.class_indices)\n",
        "\n",
        "total_train = 2000\n",
        "total_val = 1000\n",
        "\n",
        "print(test_data_gen.image_shape)"
      ]
    },
    {
      "cell_type": "markdown",
      "metadata": {
        "id": "vdpudNYVCa3F"
      },
      "source": [
        "### Defining the Architecture of CNN"
      ]
    },
    {
      "cell_type": "code",
      "execution_count": 27,
      "metadata": {
        "id": "YfedH9JyCa3G"
      },
      "outputs": [
        {
          "name": "stdout",
          "output_type": "stream",
          "text": [
            "base model summary\n",
            "Model: \"vgg16\"\n",
            "_________________________________________________________________\n",
            " Layer (type)                Output Shape              Param #   \n",
            "=================================================================\n",
            " input_2 (InputLayer)        [(None, 100, 100, 3)]     0         \n",
            "                                                                 \n",
            " block1_conv1 (Conv2D)       (None, 100, 100, 64)      1792      \n",
            "                                                                 \n",
            " block1_conv2 (Conv2D)       (None, 100, 100, 64)      36928     \n",
            "                                                                 \n",
            " block1_pool (MaxPooling2D)  (None, 50, 50, 64)        0         \n",
            "                                                                 \n",
            " block2_conv1 (Conv2D)       (None, 50, 50, 128)       73856     \n",
            "                                                                 \n",
            " block2_conv2 (Conv2D)       (None, 50, 50, 128)       147584    \n",
            "                                                                 \n",
            " block2_pool (MaxPooling2D)  (None, 25, 25, 128)       0         \n",
            "                                                                 \n",
            " block3_conv1 (Conv2D)       (None, 25, 25, 256)       295168    \n",
            "                                                                 \n",
            " block3_conv2 (Conv2D)       (None, 25, 25, 256)       590080    \n",
            "                                                                 \n",
            " block3_conv3 (Conv2D)       (None, 25, 25, 256)       590080    \n",
            "                                                                 \n",
            " block3_pool (MaxPooling2D)  (None, 12, 12, 256)       0         \n",
            "                                                                 \n",
            " block4_conv1 (Conv2D)       (None, 12, 12, 512)       1180160   \n",
            "                                                                 \n",
            " block4_conv2 (Conv2D)       (None, 12, 12, 512)       2359808   \n",
            "                                                                 \n",
            " block4_conv3 (Conv2D)       (None, 12, 12, 512)       2359808   \n",
            "                                                                 \n",
            " block4_pool (MaxPooling2D)  (None, 6, 6, 512)         0         \n",
            "                                                                 \n",
            " block5_conv1 (Conv2D)       (None, 6, 6, 512)         2359808   \n",
            "                                                                 \n",
            " block5_conv2 (Conv2D)       (None, 6, 6, 512)         2359808   \n",
            "                                                                 \n",
            " block5_conv3 (Conv2D)       (None, 6, 6, 512)         2359808   \n",
            "                                                                 \n",
            " block5_pool (MaxPooling2D)  (None, 3, 3, 512)         0         \n",
            "                                                                 \n",
            "=================================================================\n",
            "Total params: 14,714,688\n",
            "Trainable params: 7,079,424\n",
            "Non-trainable params: 7,635,264\n",
            "_________________________________________________________________\n"
          ]
        }
      ],
      "source": [
        "# import VGG16\n",
        "from tensorflow.keras.applications import VGG16\n",
        "\n",
        "\n",
        "# instantiate a model \n",
        "input_shape = (100, 100, 3)\n",
        "base_model = VGG16(input_shape=input_shape, weights='imagenet', include_top=False)\n",
        "\n",
        "# freeze layers of the base model\n",
        "frozen_layers = 15\n",
        "for layer in base_model.layers[:frozen_layers]:\n",
        "    layer.trainable = False\n",
        "\n",
        "\n",
        "print('base model summary')\n",
        "base_model.summary()"
      ]
    },
    {
      "cell_type": "code",
      "execution_count": 28,
      "metadata": {
        "id": "4hpPlSMiCa4D"
      },
      "outputs": [
        {
          "name": "stdout",
          "output_type": "stream",
          "text": [
            "tuned model summary\n",
            "Model: \"sequential_2\"\n",
            "_________________________________________________________________\n",
            " Layer (type)                Output Shape              Param #   \n",
            "=================================================================\n",
            " vgg16 (Functional)          (None, 3, 3, 512)         14714688  \n",
            "                                                                 \n",
            " flatten_2 (Flatten)         (None, 4608)              0         \n",
            "                                                                 \n",
            " dense_4 (Dense)             (None, 500)               2304500   \n",
            "                                                                 \n",
            " dense_5 (Dense)             (None, 1)                 501       \n",
            "                                                                 \n",
            "=================================================================\n",
            "Total params: 17,019,689\n",
            "Trainable params: 9,384,425\n",
            "Non-trainable params: 7,635,264\n",
            "_________________________________________________________________\n"
          ]
        }
      ],
      "source": [
        "# add 2 fully connected layers to this VGG16 model\n",
        "\n",
        "from tensorflow.keras.layers import Flatten, Dense\n",
        "\n",
        "tuned_model = tf.keras.Sequential([\n",
        "    base_model,\n",
        "    Flatten(),\n",
        "    Dense(500, activation='relu'),\n",
        "    Dense(1, activation='sigmoid')\n",
        "])\n",
        "\n",
        "\n",
        "# instantiate and Adam opetimizer with learning rate of .00001\n",
        "optimizer = tf.keras.optimizers.Adam(0.00001)\n",
        "\n",
        "\n",
        "# compile the model and specify loss function \n",
        "tuned_model.compile(loss='binary_crossentropy', optimizer=optimizer, metrics=['accuracy'])\n",
        "\n",
        "print('tuned model summary')\n",
        "tuned_model.summary()"
      ]
    },
    {
      "cell_type": "markdown",
      "metadata": {
        "id": "I7aycMPUCa3j"
      },
      "source": [
        "### Training and Evaluation of the Model"
      ]
    },
    {
      "cell_type": "code",
      "execution_count": 29,
      "metadata": {
        "id": "Wp0SBCCGfAu7"
      },
      "outputs": [
        {
          "name": "stdout",
          "output_type": "stream",
          "text": [
            "/home/azureuser/cloudfiles/data/model_checkpoint/vgg_checkpoint\n"
          ]
        }
      ],
      "source": [
        "from tensorflow.keras.callbacks import EarlyStopping, ReduceLROnPlateau, ModelCheckpoint\n",
        "\n",
        "# early stopping if model doesnot improve in 5 epochs \n",
        "early_stop_cb = tf.keras.callbacks.EarlyStopping(monitor='loss', patience=5)\n",
        "\n",
        "# decrease the learning rate by a factor of 0.2 if the model doesn't improve after 3 epochs\n",
        "reduce_lr = ReduceLROnPlateau(monitor='val_loss', factor=0.2, patience=3, min_lr=0.0000001)\n",
        "\n",
        "# Model checkpoint location \n",
        "checkpoint_filepath = os.path.expanduser('~/cloudfiles/data/model_checkpoint/vgg_checkpoint')\n",
        "print(checkpoint_filepath)\n",
        "\n",
        "# save bes model weights during learning process\n",
        "model_checkpoint_cb = ModelCheckpoint(\n",
        "    filepath=checkpoint_filepath,\n",
        "    save_weights_only=True,\n",
        "    monitor='val_accuracy',\n",
        "    mode='max',\n",
        "    save_best_only=True)"
      ]
    },
    {
      "cell_type": "code",
      "execution_count": 30,
      "metadata": {
        "colab": {
          "base_uri": "https://localhost:8080/"
        },
        "id": "nz9iyXr5Ca3m",
        "outputId": "8bba06ac-7a3a-403c-a57d-eeb222ad7d92",
        "scrolled": false
      },
      "outputs": [
        {
          "name": "stderr",
          "output_type": "stream",
          "text": [
            "<ipython-input-30-a9e64beea693>:2: UserWarning: `Model.fit_generator` is deprecated and will be removed in a future version. Please use `Model.fit`, which supports generators.\n",
            "  history = tuned_model.fit_generator(\n",
            "2022/04/25 05:33:17 INFO mlflow.utils.autologging_utils: Created MLflow autologging run with ID '790f7fd1-abff-4b4f-9e10-8b93dc4828ab', which will track hyperparameters, performance metrics, model artifacts, and lineage information for the current tensorflow workflow\n"
          ]
        },
        {
          "name": "stdout",
          "output_type": "stream",
          "text": [
            "Epoch 1/50\n",
            "100/100 [==============================] - 83s 813ms/step - loss: 0.5559 - accuracy: 0.7100 - val_loss: 0.4073 - val_accuracy: 0.8070 - lr: 1.0000e-05\n",
            "Epoch 2/50\n",
            "100/100 [==============================] - 61s 609ms/step - loss: 0.4097 - accuracy: 0.8080 - val_loss: 0.3161 - val_accuracy: 0.8580 - lr: 1.0000e-05\n",
            "Epoch 3/50\n",
            "100/100 [==============================] - 62s 621ms/step - loss: 0.3539 - accuracy: 0.8365 - val_loss: 0.2981 - val_accuracy: 0.8690 - lr: 1.0000e-05\n",
            "Epoch 4/50\n",
            "100/100 [==============================] - 65s 650ms/step - loss: 0.3095 - accuracy: 0.8665 - val_loss: 0.3142 - val_accuracy: 0.8660 - lr: 1.0000e-05\n",
            "Epoch 5/50\n",
            "100/100 [==============================] - 61s 616ms/step - loss: 0.2933 - accuracy: 0.8655 - val_loss: 0.2838 - val_accuracy: 0.8820 - lr: 1.0000e-05\n",
            "Epoch 6/50\n",
            "100/100 [==============================] - 72s 720ms/step - loss: 0.2889 - accuracy: 0.8780 - val_loss: 0.2836 - val_accuracy: 0.8790 - lr: 1.0000e-05\n",
            "Epoch 7/50\n",
            "100/100 [==============================] - 65s 651ms/step - loss: 0.2778 - accuracy: 0.8765 - val_loss: 0.2704 - val_accuracy: 0.8730 - lr: 1.0000e-05\n",
            "Epoch 8/50\n",
            "100/100 [==============================] - 69s 692ms/step - loss: 0.2644 - accuracy: 0.8875 - val_loss: 0.2612 - val_accuracy: 0.8840 - lr: 1.0000e-05\n",
            "Epoch 9/50\n",
            "100/100 [==============================] - 65s 650ms/step - loss: 0.2285 - accuracy: 0.9060 - val_loss: 0.2556 - val_accuracy: 0.8910 - lr: 1.0000e-05\n",
            "Epoch 10/50\n",
            "100/100 [==============================] - 65s 650ms/step - loss: 0.2120 - accuracy: 0.9140 - val_loss: 0.2763 - val_accuracy: 0.8920 - lr: 1.0000e-05\n",
            "Epoch 11/50\n",
            "100/100 [==============================] - 62s 621ms/step - loss: 0.2079 - accuracy: 0.9245 - val_loss: 0.2570 - val_accuracy: 0.8970 - lr: 1.0000e-05\n",
            "Epoch 12/50\n",
            "100/100 [==============================] - 63s 628ms/step - loss: 0.1983 - accuracy: 0.9165 - val_loss: 0.2423 - val_accuracy: 0.9020 - lr: 1.0000e-05\n",
            "Epoch 13/50\n",
            "100/100 [==============================] - 69s 687ms/step - loss: 0.2028 - accuracy: 0.9210 - val_loss: 0.2352 - val_accuracy: 0.9080 - lr: 1.0000e-05\n",
            "Epoch 14/50\n",
            "100/100 [==============================] - 62s 622ms/step - loss: 0.1888 - accuracy: 0.9260 - val_loss: 0.2418 - val_accuracy: 0.9060 - lr: 1.0000e-05\n",
            "Epoch 15/50\n",
            "100/100 [==============================] - 66s 664ms/step - loss: 0.1790 - accuracy: 0.9310 - val_loss: 0.3018 - val_accuracy: 0.8930 - lr: 1.0000e-05\n",
            "Epoch 16/50\n",
            "100/100 [==============================] - 64s 642ms/step - loss: 0.1657 - accuracy: 0.9365 - val_loss: 0.3291 - val_accuracy: 0.8870 - lr: 1.0000e-05\n",
            "Epoch 17/50\n",
            "100/100 [==============================] - 62s 618ms/step - loss: 0.1489 - accuracy: 0.9415 - val_loss: 0.2629 - val_accuracy: 0.9020 - lr: 2.0000e-06\n",
            "Epoch 18/50\n",
            "100/100 [==============================] - 63s 631ms/step - loss: 0.1464 - accuracy: 0.9450 - val_loss: 0.2645 - val_accuracy: 0.9040 - lr: 2.0000e-06\n",
            "Epoch 19/50\n",
            "100/100 [==============================] - 66s 661ms/step - loss: 0.1390 - accuracy: 0.9510 - val_loss: 0.2312 - val_accuracy: 0.9020 - lr: 2.0000e-06\n",
            "Epoch 20/50\n",
            "100/100 [==============================] - 61s 614ms/step - loss: 0.1247 - accuracy: 0.9540 - val_loss: 0.3027 - val_accuracy: 0.8950 - lr: 2.0000e-06\n",
            "Epoch 21/50\n",
            "100/100 [==============================] - 66s 658ms/step - loss: 0.1328 - accuracy: 0.9475 - val_loss: 0.2449 - val_accuracy: 0.9000 - lr: 2.0000e-06\n",
            "Epoch 22/50\n",
            "100/100 [==============================] - 62s 618ms/step - loss: 0.1348 - accuracy: 0.9540 - val_loss: 0.2816 - val_accuracy: 0.8980 - lr: 2.0000e-06\n",
            "Epoch 23/50\n",
            "100/100 [==============================] - 62s 621ms/step - loss: 0.1352 - accuracy: 0.9515 - val_loss: 0.2524 - val_accuracy: 0.9010 - lr: 4.0000e-07\n",
            "Epoch 24/50\n",
            "100/100 [==============================] - 61s 612ms/step - loss: 0.1244 - accuracy: 0.9580 - val_loss: 0.2479 - val_accuracy: 0.9030 - lr: 4.0000e-07\n",
            "Epoch 25/50\n",
            "100/100 [==============================] - 62s 622ms/step - loss: 0.1212 - accuracy: 0.9565 - val_loss: 0.2436 - val_accuracy: 0.9040 - lr: 4.0000e-07\n",
            "Epoch 26/50\n",
            "100/100 [==============================] - 62s 621ms/step - loss: 0.1216 - accuracy: 0.9540 - val_loss: 0.2477 - val_accuracy: 0.9030 - lr: 1.0000e-07\n",
            "Epoch 27/50\n",
            "100/100 [==============================] - 63s 629ms/step - loss: 0.1182 - accuracy: 0.9570 - val_loss: 0.2480 - val_accuracy: 0.9030 - lr: 1.0000e-07\n",
            "Epoch 28/50\n",
            "100/100 [==============================] - 63s 629ms/step - loss: 0.1379 - accuracy: 0.9450 - val_loss: 0.2451 - val_accuracy: 0.9040 - lr: 1.0000e-07\n",
            "Epoch 29/50\n",
            "100/100 [==============================] - 63s 630ms/step - loss: 0.1385 - accuracy: 0.9515 - val_loss: 0.2468 - val_accuracy: 0.9030 - lr: 1.0000e-07\n",
            "Epoch 30/50\n",
            "100/100 [==============================] - 63s 627ms/step - loss: 0.1219 - accuracy: 0.9540 - val_loss: 0.2432 - val_accuracy: 0.9030 - lr: 1.0000e-07\n",
            "Epoch 31/50\n",
            "100/100 [==============================] - 61s 611ms/step - loss: 0.1307 - accuracy: 0.9520 - val_loss: 0.2470 - val_accuracy: 0.9040 - lr: 1.0000e-07\n",
            "Epoch 32/50\n",
            "100/100 [==============================] - 62s 619ms/step - loss: 0.1154 - accuracy: 0.9590 - val_loss: 0.2478 - val_accuracy: 0.9020 - lr: 1.0000e-07\n",
            "Epoch 33/50\n",
            "100/100 [==============================] - 61s 615ms/step - loss: 0.1313 - accuracy: 0.9590 - val_loss: 0.2497 - val_accuracy: 0.9010 - lr: 1.0000e-07\n",
            "Epoch 34/50\n",
            "100/100 [==============================] - 65s 648ms/step - loss: 0.1270 - accuracy: 0.9535 - val_loss: 0.2496 - val_accuracy: 0.9010 - lr: 1.0000e-07\n",
            "Epoch 35/50\n",
            "100/100 [==============================] - 62s 619ms/step - loss: 0.1190 - accuracy: 0.9625 - val_loss: 0.2532 - val_accuracy: 0.9010 - lr: 1.0000e-07\n",
            "Epoch 36/50\n",
            "100/100 [==============================] - 65s 653ms/step - loss: 0.1388 - accuracy: 0.9445 - val_loss: 0.2500 - val_accuracy: 0.9000 - lr: 1.0000e-07\n",
            "Epoch 37/50\n",
            "100/100 [==============================] - 64s 636ms/step - loss: 0.1254 - accuracy: 0.9565 - val_loss: 0.2520 - val_accuracy: 0.9000 - lr: 1.0000e-07\n",
            "INFO:tensorflow:Assets written to: /tmp/tmp_xzmc_v_/model/data/model/assets\n"
          ]
        },
        {
          "name": "stderr",
          "output_type": "stream",
          "text": [
            "2022/04/25 06:13:22 WARNING mlflow.utils.environment: Encountered an unexpected error while inferring pip requirements (model URI: /tmp/tmp_xzmc_v_/model, flavor: keras), fall back to return ['tensorflow==2.8.0', 'keras==2.8.0']. Set logging level to DEBUG to see the full traceback.\n"
          ]
        }
      ],
      "source": [
        "# Train for 50 epochs (unless stopped early by callback functions)\n",
        "history = tuned_model.fit_generator(\n",
        "    train_data_gen,\n",
        "    steps_per_epoch=total_train // batch_size,\n",
        "    epochs=50,\n",
        "    validation_data=test_data_gen,\n",
        "    validation_steps=total_val // batch_size,\n",
        "    callbacks=[early_stop_cb, reduce_lr, model_checkpoint_cb]\n",
        ")"
      ]
    },
    {
      "cell_type": "markdown",
      "metadata": {
        "id": "P4CgxmxeCa3q"
      },
      "source": [
        "## Analysing the Results"
      ]
    },
    {
      "cell_type": "code",
      "execution_count": 31,
      "metadata": {
        "colab": {
          "base_uri": "https://localhost:8080/",
          "height": 279
        },
        "id": "ygPgB2hqCa3s",
        "outputId": "297d778a-ff92-4790-c496-d7f35afad562"
      },
      "outputs": [
        {
          "data": {
            "image/png": "[encoded data removed]",
            "text/plain": [
              "<Figure size 432x288 with 1 Axes>"
            ]
          },
          "metadata": {
            "needs_background": "light"
          },
          "output_type": "display_data"
        }
      ],
      "source": [
        "# plot the accuracy for the training and validation set\n",
        "import matplotlib.pyplot as plt\n",
        "\n",
        "plt.plot(history.history['accuracy'], label='training')\n",
        "plt.plot(history.history['val_accuracy'], label='validation')\n",
        "plt.ylabel('accuracy')\n",
        "plt.xlabel('Epoch')\n",
        "plt.show()"
      ]
    }
  ],
  "metadata": {
    "accelerator": "GPU",
    "colab": {
      "collapsed_sections": [],
      "name": "DL_Lab4_Exercise2_Solutions.ipynb",
      "provenance": []
    },
    "interpreter": {
      "hash": "9169f1d4e16acc976bbb73e323b0dbdf23f1c55e833fb2befffc4fb50ac2de2f"
    },
    "kernelspec": {
      "display_name": "Python 3.8.5 ('azureml_py38_PT_TF')",
      "language": "python",
      "name": "python3"
    },
    "language_info": {
      "codemirror_mode": {
        "name": "ipython",
        "version": 3
      },
      "file_extension": ".py",
      "mimetype": "text/x-python",
      "name": "python",
      "nbconvert_exporter": "python",
      "pygments_lexer": "ipython3",
      "version": "3.8.5"
    }
  },
  "nbformat": 4,
  "nbformat_minor": 0
}
