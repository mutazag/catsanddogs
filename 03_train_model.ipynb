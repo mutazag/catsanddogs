{
  "cells": [
    {
      "cell_type": "markdown",
      "metadata": {
        "id": "slVkfZECGYuE"
      },
      "source": [
        "# Run Training on Azure ML Compute Instance\n",
        "\n",
        "In this exercise, we will run a deep learning training job on Azure ML Compute Instance\n"
      ]
    },
    {
      "cell_type": "markdown",
      "metadata": {
        "id": "UEKwxPVBF4Kd"
      },
      "source": [
        "# Predicting cats versus dogs (binary classification)\n",
        "\n",
        "## Dataset \n",
        "\n",
        "The original dataset is avalaible here: [cats and dogs](https://storage.googleapis.com/mledu-datasets/cats_and_dogs_filtered.zip)\n",
        "\n",
        "Run the [downlload bash script](01_download_files.sh) to download the publich cats and dogs dataset and uploaded to a storage account. \n",
        "\n",
        "Run [Explore Dataset Notebook](02_explore_dataset.ipynb) to mount datstore to compute instance."
      ]
    },
    {
      "cell_type": "markdown",
      "metadata": {
        "id": "z1uxFpFNZgj-"
      },
      "source": [
        "## Training Code"
      ]
    },
    {
      "cell_type": "code",
      "execution_count": 1,
      "metadata": {
        "id": "8rlRtw82Ca2W"
      },
      "outputs": [
        {
          "name": "stderr",
          "output_type": "stream",
          "text": [
            "2023-08-19 07:18:49.518219: I tensorflow/core/platform/cpu_feature_guard.cc:193] This TensorFlow binary is optimized with oneAPI Deep Neural Network Library (oneDNN) to use the following CPU instructions in performance-critical operations:  AVX2 AVX512F AVX512_VNNI FMA\n",
            "To enable them in other operations, rebuild TensorFlow with the appropriate compiler flags.\n",
            "2023-08-19 07:18:52.309324: I tensorflow/core/util/port.cc:104] oneDNN custom operations are on. You may see slightly different numerical results due to floating-point round-off errors from different computation orders. To turn them off, set the environment variable `TF_ENABLE_ONEDNN_OPTS=0`.\n",
            "2023-08-19 07:19:00.020466: W tensorflow/compiler/xla/stream_executor/platform/default/dso_loader.cc:64] Could not load dynamic library 'libnvinfer.so.7'; dlerror: libnvinfer.so.7: cannot open shared object file: No such file or directory; LD_LIBRARY_PATH: /opt/intel/compilers_and_libraries_2018.3.222/linux/mpi/intel64/lib:/opt/intel/compilers_and_libraries_2018.3.222/linux/mpi/mic/lib:/opt/intel/compilers_and_libraries_2018.3.222/linux/mpi/intel64/lib:/opt/intel/compilers_and_libraries_2018.3.222/linux/mpi/mic/lib::/usr/local/cuda/lib64:/usr/local/cuda/extras/CUPTI/lib64/:/anaconda/envs/azureml_py38/lib/:/usr/local/cuda/lib64:/usr/local/cuda/extras/CUPTI/lib64/:/anaconda/envs/azureml_py38/lib/\n",
            "2023-08-19 07:19:00.024689: W tensorflow/compiler/xla/stream_executor/platform/default/dso_loader.cc:64] Could not load dynamic library 'libnvinfer_plugin.so.7'; dlerror: libnvinfer_plugin.so.7: cannot open shared object file: No such file or directory; LD_LIBRARY_PATH: /opt/intel/compilers_and_libraries_2018.3.222/linux/mpi/intel64/lib:/opt/intel/compilers_and_libraries_2018.3.222/linux/mpi/mic/lib:/opt/intel/compilers_and_libraries_2018.3.222/linux/mpi/intel64/lib:/opt/intel/compilers_and_libraries_2018.3.222/linux/mpi/mic/lib::/usr/local/cuda/lib64:/usr/local/cuda/extras/CUPTI/lib64/:/anaconda/envs/azureml_py38/lib/:/usr/local/cuda/lib64:/usr/local/cuda/extras/CUPTI/lib64/:/anaconda/envs/azureml_py38/lib/\n",
            "2023-08-19 07:19:00.024707: W tensorflow/compiler/tf2tensorrt/utils/py_utils.cc:38] TF-TRT Warning: Cannot dlopen some TensorRT libraries. If you would like to use Nvidia GPU with TensorRT, please make sure the missing libraries mentioned above are installed properly.\n"
          ]
        }
      ],
      "source": [
        "import tensorflow as tf\n",
        "# Placeholder for student's code (3 lines of code)\n",
        "# Task: import tensorflow and download the dataset locally"
      ]
    },
    {
      "cell_type": "code",
      "execution_count": 3,
      "metadata": {},
      "outputs": [
        {
          "data": {
            "text/plain": [
              "'2.11.1'"
            ]
          },
          "execution_count": 3,
          "metadata": {},
          "output_type": "execute_result"
        }
      ],
      "source": [
        "tf.version.VERSION"
      ]
    },
    {
      "cell_type": "markdown",
      "metadata": {},
      "source": [
        "Enable MLflow tracking"
      ]
    },
    {
      "cell_type": "code",
      "execution_count": 4,
      "metadata": {},
      "outputs": [
        {
          "name": "stderr",
          "output_type": "stream",
          "text": [
            "2023/08/19 07:19:21 INFO mlflow.tracking.fluent: Experiment with name 'catsanddogsexp' does not exist. Creating a new experiment.\n",
            "2023/08/19 07:19:21 INFO mlflow.tracking.fluent: Autologging successfully enabled for tensorflow.\n"
          ]
        }
      ],
      "source": [
        "import mlflow\n",
        "mlflow.set_experiment('catsanddogsexp')\n",
        "mlflow.autolog()"
      ]
    },
    {
      "cell_type": "markdown",
      "metadata": {},
      "source": [
        "Data need to be present on the compute instance, or development machine. Refer to [explore data set notebook](02_explore_dataset.ipynb) for details on how to mount a registered `Dataset`. "
      ]
    },
    {
      "cell_type": "code",
      "execution_count": 5,
      "metadata": {
        "colab": {
          "base_uri": "https://localhost:8080/",
          "height": 87
        },
        "id": "b4YDJ6ztCa2a",
        "outputId": "608674dd-c921-4f9b-dd93-a69944a61d53"
      },
      "outputs": [
        {
          "name": "stdout",
          "output_type": "stream",
          "text": [
            "['train', 'validation', 'vectorize.py']\n"
          ]
        }
      ],
      "source": [
        "zip_dir = '/mnt/tmp/cats_dogs'\n",
        "import pathlib\n",
        "parent_dir = pathlib.Path(zip_dir)\n",
        "\n",
        "import os \n",
        "print(os.listdir(zip_dir))"
      ]
    },
    {
      "cell_type": "code",
      "execution_count": 6,
      "metadata": {
        "id": "FONBvEU5Ca2m"
      },
      "outputs": [
        {
          "name": "stdout",
          "output_type": "stream",
          "text": [
            "/mnt/tmp/cats_dogs/train\n",
            "/mnt/tmp/cats_dogs/validation\n"
          ]
        }
      ],
      "source": [
        "# Create 2 variable called train_dir and test_dir that will contain the path to the 'train' and 'validation' folders\n",
        "train_dir = parent_dir / 'train'\n",
        "test_dir = parent_dir / 'validation'\n",
        "\n",
        "print(train_dir)\n",
        "print(test_dir)"
      ]
    },
    {
      "cell_type": "markdown",
      "metadata": {
        "id": "6TfftHwNCa2o"
      },
      "source": [
        "### Preparing the Dataset"
      ]
    },
    {
      "cell_type": "code",
      "execution_count": 7,
      "metadata": {
        "id": "yeS9IGMJCa2r"
      },
      "outputs": [
        {
          "name": "stdout",
          "output_type": "stream",
          "text": [
            "Found 2000 images belonging to 2 classes.\n",
            "Found 1000 images belonging to 2 classes.\n",
            "{'cats': 0, 'dogs': 1}\n",
            "(100, 100, 3)\n"
          ]
        }
      ],
      "source": [
        "# Import ImageDataGenerator and create an image generator for the training set\n",
        "from tensorflow.keras.preprocessing.image import ImageDataGenerator\n",
        "train_img_gen = ImageDataGenerator(\n",
        "    rescale=1./255, \n",
        "    rotation_range=40, \n",
        "    width_shift_range=0.1, \n",
        "    height_shift_range=0.1, \n",
        "    shear_range=0.2, \n",
        "    zoom_range=0.2, \n",
        "    horizontal_flip=True, \n",
        "    fill_mode='nearest')\n",
        "\n",
        "\n",
        "# create an image generator for the testing set\n",
        "test_img_gen = ImageDataGenerator(rescale=1./255)\n",
        "\n",
        "# batch size for the data generators.\n",
        "batch_size=20\n",
        "\n",
        "# define our data generator by specifying its input stream\n",
        "train_data_gen = train_img_gen.flow_from_directory(\n",
        "    batch_size=batch_size, \n",
        "    directory=train_dir, \n",
        "    target_size=(100, 100), \n",
        "    class_mode='binary')\n",
        "\n",
        "test_data_gen = test_img_gen.flow_from_directory(\n",
        "    batch_size=batch_size, \n",
        "    directory=test_dir, \n",
        "    target_size=(100, 100), \n",
        "    class_mode='binary')\n",
        "\n",
        "\n",
        "print(test_data_gen.class_indices)\n",
        "\n",
        "total_train = 2000\n",
        "total_val = 1000\n",
        "\n",
        "print(test_data_gen.image_shape)"
      ]
    },
    {
      "cell_type": "markdown",
      "metadata": {
        "id": "vdpudNYVCa3F"
      },
      "source": [
        "### Defining the Architecture of CNN"
      ]
    },
    {
      "cell_type": "code",
      "execution_count": 8,
      "metadata": {
        "id": "YfedH9JyCa3G"
      },
      "outputs": [
        {
          "name": "stderr",
          "output_type": "stream",
          "text": [
            "2023-08-19 07:19:41.200319: E tensorflow/compiler/xla/stream_executor/cuda/cuda_driver.cc:267] failed call to cuInit: CUDA_ERROR_NO_DEVICE: no CUDA-capable device is detected\n"
          ]
        },
        {
          "name": "stdout",
          "output_type": "stream",
          "text": [
            "Downloading data from https://storage.googleapis.com/tensorflow/keras-applications/vgg16/vgg16_weights_tf_dim_ordering_tf_kernels_notop.h5\n",
            "58889256/58889256 [==============================] - 0s 0us/step\n",
            "base model summary\n",
            "Model: \"vgg16\"\n",
            "_________________________________________________________________\n",
            " Layer (type)                Output Shape              Param #   \n",
            "=================================================================\n",
            " input_1 (InputLayer)        [(None, 100, 100, 3)]     0         \n",
            "                                                                 \n",
            " block1_conv1 (Conv2D)       (None, 100, 100, 64)      1792      \n",
            "                                                                 \n",
            " block1_conv2 (Conv2D)       (None, 100, 100, 64)      36928     \n",
            "                                                                 \n",
            " block1_pool (MaxPooling2D)  (None, 50, 50, 64)        0         \n",
            "                                                                 \n",
            " block2_conv1 (Conv2D)       (None, 50, 50, 128)       73856     \n",
            "                                                                 \n",
            " block2_conv2 (Conv2D)       (None, 50, 50, 128)       147584    \n",
            "                                                                 \n",
            " block2_pool (MaxPooling2D)  (None, 25, 25, 128)       0         \n",
            "                                                                 \n",
            " block3_conv1 (Conv2D)       (None, 25, 25, 256)       295168    \n",
            "                                                                 \n",
            " block3_conv2 (Conv2D)       (None, 25, 25, 256)       590080    \n",
            "                                                                 \n",
            " block3_conv3 (Conv2D)       (None, 25, 25, 256)       590080    \n",
            "                                                                 \n",
            " block3_pool (MaxPooling2D)  (None, 12, 12, 256)       0         \n",
            "                                                                 \n",
            " block4_conv1 (Conv2D)       (None, 12, 12, 512)       1180160   \n",
            "                                                                 \n",
            " block4_conv2 (Conv2D)       (None, 12, 12, 512)       2359808   \n",
            "                                                                 \n",
            " block4_conv3 (Conv2D)       (None, 12, 12, 512)       2359808   \n",
            "                                                                 \n",
            " block4_pool (MaxPooling2D)  (None, 6, 6, 512)         0         \n",
            "                                                                 \n",
            " block5_conv1 (Conv2D)       (None, 6, 6, 512)         2359808   \n",
            "                                                                 \n",
            " block5_conv2 (Conv2D)       (None, 6, 6, 512)         2359808   \n",
            "                                                                 \n",
            " block5_conv3 (Conv2D)       (None, 6, 6, 512)         2359808   \n",
            "                                                                 \n",
            " block5_pool (MaxPooling2D)  (None, 3, 3, 512)         0         \n",
            "                                                                 \n",
            "=================================================================\n",
            "Total params: 14,714,688\n",
            "Trainable params: 7,079,424\n",
            "Non-trainable params: 7,635,264\n",
            "_________________________________________________________________\n"
          ]
        }
      ],
      "source": [
        "# import VGG16\n",
        "from tensorflow.keras.applications import VGG16\n",
        "\n",
        "\n",
        "# instantiate a model \n",
        "input_shape = (100, 100, 3)\n",
        "base_model = VGG16(input_shape=input_shape, weights='imagenet', include_top=False)\n",
        "\n",
        "# freeze layers of the base model\n",
        "frozen_layers = 15\n",
        "for layer in base_model.layers[:frozen_layers]:\n",
        "    layer.trainable = False\n",
        "\n",
        "\n",
        "print('base model summary')\n",
        "base_model.summary()"
      ]
    },
    {
      "cell_type": "code",
      "execution_count": 9,
      "metadata": {
        "id": "4hpPlSMiCa4D"
      },
      "outputs": [
        {
          "name": "stdout",
          "output_type": "stream",
          "text": [
            "tuned model summary\n",
            "Model: \"sequential\"\n",
            "_________________________________________________________________\n",
            " Layer (type)                Output Shape              Param #   \n",
            "=================================================================\n",
            " vgg16 (Functional)          (None, 3, 3, 512)         14714688  \n",
            "                                                                 \n",
            " flatten (Flatten)           (None, 4608)              0         \n",
            "                                                                 \n",
            " dense (Dense)               (None, 500)               2304500   \n",
            "                                                                 \n",
            " dense_1 (Dense)             (None, 1)                 501       \n",
            "                                                                 \n",
            "=================================================================\n",
            "Total params: 17,019,689\n",
            "Trainable params: 9,384,425\n",
            "Non-trainable params: 7,635,264\n",
            "_________________________________________________________________\n",
            "_________________________________________________________________\n",
            " Layer (type)                Output Shape              Param #   \n",
            "=================================================================\n",
            " vgg16 (Functional)          (None, 3, 3, 512)         14714688  \n",
            "                                                                 \n",
            " flatten (Flatten)           (None, 4608)              0         \n",
            "                                                                 \n",
            " dense (Dense)               (None, 500)               2304500   \n",
            "                                                                 \n",
            " dense_1 (Dense)             (None, 1)                 501       \n",
            "                                                                 \n",
            "=================================================================\n",
            "Total params: 17,019,689\n",
            "Trainable params: 9,384,425\n",
            "Non-trainable params: 7,635,264\n",
            "_________________________________________________________________\n"
          ]
        }
      ],
      "source": [
        "# add 2 fully connected layers to this VGG16 model\n",
        "\n",
        "from tensorflow.keras.layers import Flatten, Dense\n",
        "\n",
        "tuned_model = tf.keras.Sequential([\n",
        "    base_model,\n",
        "    Flatten(),\n",
        "    Dense(500, activation='relu'),\n",
        "    Dense(1, activation='sigmoid')\n",
        "])\n",
        "\n",
        "\n",
        "# instantiate and Adam opetimizer with learning rate of .00001\n",
        "optimizer = tf.keras.optimizers.Adam(0.00001)\n",
        "\n",
        "\n",
        "# compile the model and specify loss function \n",
        "tuned_model.compile(loss='binary_crossentropy', optimizer=optimizer, metrics=['accuracy'])\n",
        "\n",
        "print('tuned model summary')\n",
        "tuned_model.summary()"
      ]
    },
    {
      "cell_type": "markdown",
      "metadata": {
        "id": "I7aycMPUCa3j"
      },
      "source": [
        "### Training and Evaluation of the Model"
      ]
    },
    {
      "cell_type": "code",
      "execution_count": 10,
      "metadata": {
        "id": "Wp0SBCCGfAu7"
      },
      "outputs": [
        {
          "name": "stdout",
          "output_type": "stream",
          "text": [
            "/home/azureuser/cloudfiles/data/model_checkpoint/vgg_checkpoint\n"
          ]
        }
      ],
      "source": [
        "from tensorflow.keras.callbacks import EarlyStopping, ReduceLROnPlateau, ModelCheckpoint\n",
        "\n",
        "# early stopping if model doesnot improve in 5 epochs \n",
        "early_stop_cb = tf.keras.callbacks.EarlyStopping(monitor='loss', patience=5)\n",
        "\n",
        "# decrease the learning rate by a factor of 0.2 if the model doesn't improve after 3 epochs\n",
        "reduce_lr = ReduceLROnPlateau(monitor='val_loss', factor=0.2, patience=3, min_lr=0.0000001)\n",
        "\n",
        "# Model checkpoint location \n",
        "checkpoint_filepath = os.path.expanduser('~/cloudfiles/data/model_checkpoint/vgg_checkpoint')\n",
        "print(checkpoint_filepath)\n",
        "\n",
        "# save bes model weights during learning process\n",
        "model_checkpoint_cb = ModelCheckpoint(\n",
        "    filepath=checkpoint_filepath,\n",
        "    save_weights_only=True,\n",
        "    monitor='val_accuracy',\n",
        "    mode='max',\n",
        "    save_best_only=True)"
      ]
    },
    {
      "cell_type": "code",
      "execution_count": 11,
      "metadata": {
        "colab": {
          "base_uri": "https://localhost:8080/"
        },
        "id": "nz9iyXr5Ca3m",
        "outputId": "8bba06ac-7a3a-403c-a57d-eeb222ad7d92",
        "scrolled": false
      },
      "outputs": [
        {
          "name": "stderr",
          "output_type": "stream",
          "text": [
            "/tmp/ipykernel_93136/2923543167.py:2: UserWarning: `Model.fit_generator` is deprecated and will be removed in a future version. Please use `Model.fit`, which supports generators.\n",
            "  history = tuned_model.fit_generator(\n"
          ]
        },
        {
          "name": "stderr",
          "output_type": "stream",
          "text": [
            "2023/08/19 07:19:59 INFO mlflow.utils.autologging_utils: Created MLflow autologging run with ID '0adb5f87-f50e-42cd-bf3e-e273fdf7bc6b', which will track hyperparameters, performance metrics, model artifacts, and lineage information for the current tensorflow workflow\n",
            "2023/08/19 07:20:04 WARNING mlflow.tensorflow: Unrecognized dataset type <class 'keras.preprocessing.image.DirectoryIterator'>. Dataset logging skipped.\n",
            "2023/08/19 07:20:04 WARNING mlflow.tensorflow: Unrecognized dataset type <class 'keras.preprocessing.image.DirectoryIterator'>. Dataset logging skipped.\n"
          ]
        },
        {
          "name": "stdout",
          "output_type": "stream",
          "text": [
            "Epoch 1/50\n",
            "100/100 [==============================] - 630s 6s/step - loss: 0.5683 - accuracy: 0.7035 - val_loss: 0.4152 - val_accuracy: 0.8040 - lr: 1.0000e-05\n",
            "Epoch 2/50\n",
            "100/100 [==============================] - 136s 1s/step - loss: 0.4091 - accuracy: 0.8180 - val_loss: 0.3107 - val_accuracy: 0.8570 - lr: 1.0000e-05\n",
            "Epoch 3/50\n",
            "100/100 [==============================] - 138s 1s/step - loss: 0.3509 - accuracy: 0.8395 - val_loss: 0.2925 - val_accuracy: 0.8720 - lr: 1.0000e-05\n",
            "Epoch 4/50\n",
            "100/100 [==============================] - 137s 1s/step - loss: 0.3191 - accuracy: 0.8585 - val_loss: 0.2681 - val_accuracy: 0.8830 - lr: 1.0000e-05\n",
            "Epoch 5/50\n",
            "100/100 [==============================] - 129s 1s/step - loss: 0.3008 - accuracy: 0.8695 - val_loss: 0.2816 - val_accuracy: 0.8850 - lr: 1.0000e-05\n",
            "Epoch 6/50\n",
            "100/100 [==============================] - 132s 1s/step - loss: 0.2917 - accuracy: 0.8735 - val_loss: 0.2554 - val_accuracy: 0.8800 - lr: 1.0000e-05\n",
            "Epoch 7/50\n",
            "100/100 [==============================] - 128s 1s/step - loss: 0.2666 - accuracy: 0.8850 - val_loss: 0.2766 - val_accuracy: 0.8910 - lr: 1.0000e-05\n",
            "Epoch 8/50\n",
            "100/100 [==============================] - 137s 1s/step - loss: 0.2432 - accuracy: 0.9025 - val_loss: 0.2431 - val_accuracy: 0.8990 - lr: 1.0000e-05\n",
            "Epoch 9/50\n",
            "100/100 [==============================] - 133s 1s/step - loss: 0.2271 - accuracy: 0.9010 - val_loss: 0.2524 - val_accuracy: 0.8910 - lr: 1.0000e-05\n",
            "Epoch 10/50\n",
            "100/100 [==============================] - 138s 1s/step - loss: 0.2395 - accuracy: 0.9010 - val_loss: 0.2343 - val_accuracy: 0.9000 - lr: 1.0000e-05\n",
            "Epoch 11/50\n",
            "100/100 [==============================] - 138s 1s/step - loss: 0.2090 - accuracy: 0.9125 - val_loss: 0.2393 - val_accuracy: 0.9030 - lr: 1.0000e-05\n",
            "Epoch 12/50\n",
            "100/100 [==============================] - 136s 1s/step - loss: 0.2216 - accuracy: 0.9075 - val_loss: 0.2433 - val_accuracy: 0.9020 - lr: 1.0000e-05\n",
            "Epoch 13/50\n",
            "100/100 [==============================] - 138s 1s/step - loss: 0.1880 - accuracy: 0.9275 - val_loss: 0.3869 - val_accuracy: 0.8670 - lr: 1.0000e-05\n",
            "Epoch 14/50\n",
            "100/100 [==============================] - 134s 1s/step - loss: 0.1764 - accuracy: 0.9270 - val_loss: 0.2617 - val_accuracy: 0.8990 - lr: 2.0000e-06\n",
            "Epoch 15/50\n",
            "100/100 [==============================] - 133s 1s/step - loss: 0.1648 - accuracy: 0.9355 - val_loss: 0.2456 - val_accuracy: 0.9010 - lr: 2.0000e-06\n",
            "Epoch 16/50\n",
            "100/100 [==============================] - 137s 1s/step - loss: 0.1687 - accuracy: 0.9275 - val_loss: 0.2878 - val_accuracy: 0.9020 - lr: 2.0000e-06\n",
            "Epoch 17/50\n",
            "100/100 [==============================] - 137s 1s/step - loss: 0.1581 - accuracy: 0.9415 - val_loss: 0.2469 - val_accuracy: 0.9040 - lr: 4.0000e-07\n",
            "Epoch 18/50\n",
            "100/100 [==============================] - 139s 1s/step - loss: 0.1688 - accuracy: 0.9380 - val_loss: 0.2515 - val_accuracy: 0.9050 - lr: 4.0000e-07\n",
            "Epoch 19/50\n",
            "100/100 [==============================] - 136s 1s/step - loss: 0.1560 - accuracy: 0.9395 - val_loss: 0.2596 - val_accuracy: 0.9010 - lr: 4.0000e-07\n",
            "Epoch 20/50\n",
            "100/100 [==============================] - 130s 1s/step - loss: 0.1536 - accuracy: 0.9400 - val_loss: 0.2516 - val_accuracy: 0.9030 - lr: 1.0000e-07\n",
            "Epoch 21/50\n",
            "100/100 [==============================] - 139s 1s/step - loss: 0.1674 - accuracy: 0.9330 - val_loss: 0.2517 - val_accuracy: 0.9030 - lr: 1.0000e-07\n",
            "Epoch 22/50\n",
            "100/100 [==============================] - 138s 1s/step - loss: 0.1583 - accuracy: 0.9395 - val_loss: 0.2489 - val_accuracy: 0.9040 - lr: 1.0000e-07\n",
            "Epoch 23/50\n",
            "100/100 [==============================] - 139s 1s/step - loss: 0.1605 - accuracy: 0.9410 - val_loss: 0.2509 - val_accuracy: 0.9030 - lr: 1.0000e-07\n",
            "Epoch 24/50\n",
            "100/100 [==============================] - 138s 1s/step - loss: 0.1583 - accuracy: 0.9395 - val_loss: 0.2508 - val_accuracy: 0.9040 - lr: 1.0000e-07\n",
            "Epoch 25/50\n",
            "100/100 [==============================] - 122s 1s/step - loss: 0.1581 - accuracy: 0.9450 - val_loss: 0.2490 - val_accuracy: 0.9040 - lr: 1.0000e-07\n"
          ]
        },
        {
          "name": "stderr",
          "output_type": "stream",
          "text": [
            "2023/08/19 08:25:08 WARNING mlflow.tensorflow: Failed to infer model signature: could not sample data to infer model signature: '>=' not supported between instances of 'slice' and 'int'\n",
            "2023/08/19 08:25:08 WARNING mlflow.tensorflow: You are saving a TensorFlow Core model or Keras model without a signature. Inference with mlflow.pyfunc.spark_udf() will not work unless the model's pyfunc representation accepts pandas DataFrames as inference inputs.\n",
            "WARNING:absl:Found untraced functions such as _update_step_xla, _jit_compiled_convolution_op, _jit_compiled_convolution_op, _jit_compiled_convolution_op, _jit_compiled_convolution_op while saving (showing 5 of 14). These functions will not be directly callable after loading.\n"
          ]
        },
        {
          "name": "stdout",
          "output_type": "stream",
          "text": [
            "INFO:tensorflow:Assets written to: /tmp/tmphf6lmfo8/model/data/model/assets\n"
          ]
        },
        {
          "name": "stderr",
          "output_type": "stream",
          "text": [
            "INFO:tensorflow:Assets written to: /tmp/tmphf6lmfo8/model/data/model/assets\n",
            "2023/08/19 08:25:21 WARNING mlflow.utils.autologging_utils: MLflow autologging encountered a warning: \"/anaconda/envs/azureml_py38_PT_TF/lib/python3.8/site-packages/_distutils_hack/__init__.py:33: UserWarning: Setuptools is replacing distutils.\"\n"
          ]
        }
      ],
      "source": [
        "# Train for 50 epochs (unless stopped early by callback functions)\n",
        "history = tuned_model.fit_generator(\n",
        "    train_data_gen,\n",
        "    steps_per_epoch=total_train // batch_size,\n",
        "    epochs=50,\n",
        "    validation_data=test_data_gen,\n",
        "    validation_steps=total_val // batch_size,\n",
        "    callbacks=[early_stop_cb, reduce_lr, model_checkpoint_cb]\n",
        ")"
      ]
    },
    {
      "cell_type": "markdown",
      "metadata": {
        "id": "P4CgxmxeCa3q"
      },
      "source": [
        "## Analysing the Results"
      ]
    },
    {
      "cell_type": "code",
      "execution_count": 12,
      "metadata": {
        "colab": {
          "base_uri": "https://localhost:8080/",
          "height": 279
        },
        "id": "ygPgB2hqCa3s",
        "outputId": "297d778a-ff92-4790-c496-d7f35afad562"
      },
      "outputs": [
        {
          "data": {
            "image/png": "[encoded data removed]",
            "text/plain": [
              "<Figure size 640x480 with 1 Axes>"
            ]
          },
          "metadata": {},
          "output_type": "display_data"
        }
      ],
      "source": [
        "# plot the accuracy for the training and validation set\n",
        "import matplotlib.pyplot as plt\n",
        "\n",
        "plt.plot(history.history['accuracy'], label='training')\n",
        "plt.plot(history.history['val_accuracy'], label='validation')\n",
        "plt.ylabel('accuracy')\n",
        "plt.xlabel('Epoch')\n",
        "plt.show()"
      ]
    },
    {
      "cell_type": "code",
      "execution_count": 13,
      "metadata": {},
      "outputs": [
        {
          "ename": "TypeError",
          "evalue": "run() missing 1 required positional argument: 'uri'",
          "output_type": "error",
          "traceback": [
            "\u001b[0;31m---------------------------------------------------------------------------\u001b[0m",
            "\u001b[0;31mTypeError\u001b[0m                                 Traceback (most recent call last)",
            "Cell \u001b[0;32mIn[13], line 1\u001b[0m\n\u001b[0;32m----> 1\u001b[0m mlflow\u001b[39m.\u001b[39;49mrun()\n",
            "\u001b[0;31mTypeError\u001b[0m: run() missing 1 required positional argument: 'uri'"
          ]
        }
      ],
      "source": [
        "mlflow.get"
      ]
    },
    {
      "cell_type": "code",
      "execution_count": null,
      "metadata": {},
      "outputs": [],
      "source": []
    }
  ],
  "metadata": {
    "accelerator": "GPU",
    "colab": {
      "collapsed_sections": [],
      "name": "DL_Lab4_Exercise2_Solutions.ipynb",
      "provenance": []
    },
    "interpreter": {
      "hash": "9169f1d4e16acc976bbb73e323b0dbdf23f1c55e833fb2befffc4fb50ac2de2f"
    },
    "kernelspec": {
      "display_name": "Python 3.8.5 ('azureml_py38_PT_TF')",
      "language": "python",
      "name": "python3"
    },
    "language_info": {
      "codemirror_mode": {
        "name": "ipython",
        "version": 3
      },
      "file_extension": ".py",
      "mimetype": "text/x-python",
      "name": "python",
      "nbconvert_exporter": "python",
      "pygments_lexer": "ipython3",
      "version": "3.8.5"
    }
  },
  "nbformat": 4,
  "nbformat_minor": 0
}
